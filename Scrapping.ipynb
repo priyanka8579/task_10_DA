{
 "cells": [
  {
   "cell_type": "markdown",
   "id": "8d92e293-85c0-4902-8775-075ba26ed2fb",
   "metadata": {},
   "source": [
    "### Import libraries"
   ]
  },
  {
   "cell_type": "code",
   "execution_count": 1,
   "id": "fcf1d96c-12bd-4489-b8b4-da53a7413905",
   "metadata": {},
   "outputs": [],
   "source": [
    "from selenium import webdriver\n",
    "from bs4 import BeautifulSoup\n",
    "import pandas as pd\n",
    "import time"
   ]
  },
  {
   "cell_type": "markdown",
   "id": "d1d025ac-1256-408b-92fb-ab53550cbde6",
   "metadata": {},
   "source": [
    "### url "
   ]
  },
  {
   "cell_type": "code",
   "execution_count": 2,
   "id": "bdad9691-0b39-4315-b530-5d8b0c4d086a",
   "metadata": {},
   "outputs": [],
   "source": [
    "driver = webdriver.Chrome()\n",
    "driver.get('https://internshala.com/internships/data-analytics-internship')\n",
    "time.sleep(5)\n",
    "\n",
    "soup = BeautifulSoup(driver.page_source, 'html.parser')\n",
    "driver.quit()"
   ]
  },
  {
   "cell_type": "markdown",
   "id": "6c87a3f8-b067-4f2d-a1a3-20f732c8040e",
   "metadata": {},
   "source": [
    "## Intializing list"
   ]
  },
  {
   "cell_type": "code",
   "execution_count": 3,
   "id": "bc3594e2-ea5b-432e-acb2-c93e1b3d5b61",
   "metadata": {},
   "outputs": [],
   "source": [
    "jobs = []"
   ]
  },
  {
   "cell_type": "markdown",
   "id": "6b3559f7-2fe8-4d25-ae4f-1fcbc04e778f",
   "metadata": {},
   "source": [
    "### Extracting Data"
   ]
  },
  {
   "cell_type": "code",
   "execution_count": 4,
   "id": "5cebba77-b097-4d28-9d4e-f2505bf89758",
   "metadata": {},
   "outputs": [],
   "source": [
    "for card in soup.find_all('div', class_='individual_internship'):\n",
    "    # Title\n",
    "    title_tag = card.select_one('h3.job-internship-name a.job-title-href')\n",
    "    title = title_tag.text.strip() if title_tag else 'Not found'\n",
    "\n",
    "    # Company\n",
    "    company_tag = card.select_one('p.company-name')\n",
    "    company = company_tag.text.strip() if company_tag else 'Not found'\n",
    "\n",
    "    # Location\n",
    "    location_tag = card.select_one('div.row-1-item.locations a')\n",
    "    location = location_tag.text.strip() if location_tag else 'Not found'\n",
    "\n",
    "    # Stipend\n",
    "    stipend_tag = card.select_one('span.stipend')\n",
    "    stipend = stipend_tag.text.strip() if stipend_tag else 'Not disclosed'\n",
    "\n",
    "    # Skills\n",
    "    skill_tags = card.select('div.job_skill')\n",
    "    skills = ', '.join([skill.text.strip() for skill in skill_tags]) if skill_tags else 'Not listed'\n",
    "\n",
    "    jobs.append({\n",
    "        'Title': title,\n",
    "        'Company': company,\n",
    "        'Location': location,\n",
    "        'Stipend': stipend,\n",
    "        'Skills': skills\n",
    "    })"
   ]
  },
  {
   "cell_type": "markdown",
   "id": "67f2bb4b-c026-44b9-be1a-a1d6e3f0b254",
   "metadata": {},
   "source": [
    "### Making a dataframe form the data extracted"
   ]
  },
  {
   "cell_type": "code",
   "execution_count": 5,
   "id": "855937c3-7fe5-4d0e-86f7-a6525fb499be",
   "metadata": {},
   "outputs": [
    {
     "name": "stdout",
     "output_type": "stream",
     "text": [
      "Scraped 42 jobs from Internshala.\n"
     ]
    }
   ],
   "source": [
    "df = pd.DataFrame(jobs)\n",
    "df.to_csv('internshala_data_analytics_jobs.csv', index=False)\n",
    "print(\"Scraped\", len(jobs), \"jobs from Internshala.\")"
   ]
  },
  {
   "cell_type": "markdown",
   "id": "2180b05c-ea4d-402b-99c2-dbf54ddbebc3",
   "metadata": {},
   "source": [
    "### Reading dataframe"
   ]
  },
  {
   "cell_type": "code",
   "execution_count": 6,
   "id": "3c92d5e6-ea76-4255-ac73-9629d9bb4709",
   "metadata": {},
   "outputs": [],
   "source": [
    "df = pd.read_csv(\"internshala_data_analytics_jobs.csv\")"
   ]
  },
  {
   "cell_type": "markdown",
   "id": "6a164a9a-a80d-4ab7-a129-70f66ef969ea",
   "metadata": {},
   "source": [
    "### Printing top rows"
   ]
  },
  {
   "cell_type": "code",
   "execution_count": 7,
   "id": "4890cc5e-908b-43fb-84cd-a874c89c7f7b",
   "metadata": {},
   "outputs": [
    {
     "data": {
      "text/html": [
       "<div>\n",
       "<style scoped>\n",
       "    .dataframe tbody tr th:only-of-type {\n",
       "        vertical-align: middle;\n",
       "    }\n",
       "\n",
       "    .dataframe tbody tr th {\n",
       "        vertical-align: top;\n",
       "    }\n",
       "\n",
       "    .dataframe thead th {\n",
       "        text-align: right;\n",
       "    }\n",
       "</style>\n",
       "<table border=\"1\" class=\"dataframe\">\n",
       "  <thead>\n",
       "    <tr style=\"text-align: right;\">\n",
       "      <th></th>\n",
       "      <th>Title</th>\n",
       "      <th>Company</th>\n",
       "      <th>Location</th>\n",
       "      <th>Stipend</th>\n",
       "      <th>Skills</th>\n",
       "    </tr>\n",
       "  </thead>\n",
       "  <tbody>\n",
       "    <tr>\n",
       "      <th>0</th>\n",
       "      <td>Not found</td>\n",
       "      <td>Not found</td>\n",
       "      <td>Not found</td>\n",
       "      <td>Not disclosed</td>\n",
       "      <td>Not listed</td>\n",
       "    </tr>\n",
       "    <tr>\n",
       "      <th>1</th>\n",
       "      <td>Digital Merchandiser Intern</td>\n",
       "      <td>Decathlon</td>\n",
       "      <td>Bangalore</td>\n",
       "      <td>Competitive stipend</td>\n",
       "      <td>Adobe Photoshop, Adobe Illustrator, E-commerce...</td>\n",
       "    </tr>\n",
       "    <tr>\n",
       "      <th>2</th>\n",
       "      <td>Business Analytics</td>\n",
       "      <td>Fabapps Lab Pvt Ltd</td>\n",
       "      <td>Silvassa</td>\n",
       "      <td>₹ 15,000 - 25,000 /month</td>\n",
       "      <td>MS-Office, Project Management, Software Testin...</td>\n",
       "    </tr>\n",
       "    <tr>\n",
       "      <th>3</th>\n",
       "      <td>Data Analytics</td>\n",
       "      <td>Aakar Innovations Private Limited</td>\n",
       "      <td>Navi Mumbai</td>\n",
       "      <td>₹ 25,000 - 35,000 /month</td>\n",
       "      <td>Python, SQL, Data Analytics, Data Science, RES...</td>\n",
       "    </tr>\n",
       "    <tr>\n",
       "      <th>4</th>\n",
       "      <td>Video Data Annotator</td>\n",
       "      <td>Indika AI Private Limited</td>\n",
       "      <td>Work from home</td>\n",
       "      <td>₹ 8,000 - 15,000 /month</td>\n",
       "      <td>Attention to Detail, Time Management, Data Ana...</td>\n",
       "    </tr>\n",
       "  </tbody>\n",
       "</table>\n",
       "</div>"
      ],
      "text/plain": [
       "                         Title                            Company  \\\n",
       "0                    Not found                          Not found   \n",
       "1  Digital Merchandiser Intern                          Decathlon   \n",
       "2           Business Analytics                Fabapps Lab Pvt Ltd   \n",
       "3               Data Analytics  Aakar Innovations Private Limited   \n",
       "4         Video Data Annotator          Indika AI Private Limited   \n",
       "\n",
       "         Location                   Stipend  \\\n",
       "0       Not found             Not disclosed   \n",
       "1       Bangalore       Competitive stipend   \n",
       "2        Silvassa  ₹ 15,000 - 25,000 /month   \n",
       "3     Navi Mumbai  ₹ 25,000 - 35,000 /month   \n",
       "4  Work from home   ₹ 8,000 - 15,000 /month   \n",
       "\n",
       "                                              Skills  \n",
       "0                                         Not listed  \n",
       "1  Adobe Photoshop, Adobe Illustrator, E-commerce...  \n",
       "2  MS-Office, Project Management, Software Testin...  \n",
       "3  Python, SQL, Data Analytics, Data Science, RES...  \n",
       "4  Attention to Detail, Time Management, Data Ana...  "
      ]
     },
     "execution_count": 7,
     "metadata": {},
     "output_type": "execute_result"
    }
   ],
   "source": [
    "df.head()"
   ]
  },
  {
   "cell_type": "markdown",
   "id": "2ab645e4-f38e-4d05-ae7b-23520a44250b",
   "metadata": {},
   "source": [
    "### Filtering Dataset with non-tiles rows"
   ]
  },
  {
   "cell_type": "code",
   "execution_count": 8,
   "id": "5216c54b-32f5-46f8-be33-94135e885253",
   "metadata": {},
   "outputs": [],
   "source": [
    "df = df[~((df['Title'] == 'Not found') & (df['Company'] == 'Not found'))]"
   ]
  },
  {
   "cell_type": "markdown",
   "id": "6d7b1889-69e8-4d1c-92d5-6a93be1a507d",
   "metadata": {},
   "source": [
    "### Filtering dataset for data analyst jobs(in case)"
   ]
  },
  {
   "cell_type": "code",
   "execution_count": 9,
   "id": "b1a69a2e-9290-4f2f-b296-b666dd20398a",
   "metadata": {},
   "outputs": [],
   "source": [
    "title_keywords = ['data analyst', 'data analytics', 'business analyst', 'data science']\n",
    "skill_keywords = ['python', 'sql', 'data analytics', 'data science']\n",
    "\n",
    "df_filtered = df[\n",
    "    df['Title'].str.lower().str.contains('|'.join(title_keywords)) |\n",
    "    df['Skills'].str.lower().str.contains('|'.join(skill_keywords))\n",
    "]"
   ]
  },
  {
   "cell_type": "code",
   "execution_count": 10,
   "id": "bab285f2-c4e1-41d1-8443-76c7d16d287e",
   "metadata": {},
   "outputs": [
    {
     "data": {
      "text/html": [
       "<div>\n",
       "<style scoped>\n",
       "    .dataframe tbody tr th:only-of-type {\n",
       "        vertical-align: middle;\n",
       "    }\n",
       "\n",
       "    .dataframe tbody tr th {\n",
       "        vertical-align: top;\n",
       "    }\n",
       "\n",
       "    .dataframe thead th {\n",
       "        text-align: right;\n",
       "    }\n",
       "</style>\n",
       "<table border=\"1\" class=\"dataframe\">\n",
       "  <thead>\n",
       "    <tr style=\"text-align: right;\">\n",
       "      <th></th>\n",
       "      <th>Title</th>\n",
       "      <th>Company</th>\n",
       "      <th>Location</th>\n",
       "      <th>Stipend</th>\n",
       "      <th>Skills</th>\n",
       "    </tr>\n",
       "  </thead>\n",
       "  <tbody>\n",
       "    <tr>\n",
       "      <th>1</th>\n",
       "      <td>Digital Merchandiser Intern</td>\n",
       "      <td>Decathlon</td>\n",
       "      <td>Bangalore</td>\n",
       "      <td>Competitive stipend</td>\n",
       "      <td>Adobe Photoshop, Adobe Illustrator, E-commerce...</td>\n",
       "    </tr>\n",
       "    <tr>\n",
       "      <th>2</th>\n",
       "      <td>Business Analytics</td>\n",
       "      <td>Fabapps Lab Pvt Ltd</td>\n",
       "      <td>Silvassa</td>\n",
       "      <td>₹ 15,000 - 25,000 /month</td>\n",
       "      <td>MS-Office, Project Management, Software Testin...</td>\n",
       "    </tr>\n",
       "    <tr>\n",
       "      <th>3</th>\n",
       "      <td>Data Analytics</td>\n",
       "      <td>Aakar Innovations Private Limited</td>\n",
       "      <td>Navi Mumbai</td>\n",
       "      <td>₹ 25,000 - 35,000 /month</td>\n",
       "      <td>Python, SQL, Data Analytics, Data Science, RES...</td>\n",
       "    </tr>\n",
       "    <tr>\n",
       "      <th>4</th>\n",
       "      <td>Video Data Annotator</td>\n",
       "      <td>Indika AI Private Limited</td>\n",
       "      <td>Work from home</td>\n",
       "      <td>₹ 8,000 - 15,000 /month</td>\n",
       "      <td>Attention to Detail, Time Management, Data Ana...</td>\n",
       "    </tr>\n",
       "    <tr>\n",
       "      <th>5</th>\n",
       "      <td>E-Commerce Operations</td>\n",
       "      <td>Aranqa</td>\n",
       "      <td>Mumbai</td>\n",
       "      <td>₹ 12,000 - 16,000 /month</td>\n",
       "      <td>Digital Marketing, Data Analytics, Search Engi...</td>\n",
       "    </tr>\n",
       "  </tbody>\n",
       "</table>\n",
       "</div>"
      ],
      "text/plain": [
       "                         Title                            Company  \\\n",
       "1  Digital Merchandiser Intern                          Decathlon   \n",
       "2           Business Analytics                Fabapps Lab Pvt Ltd   \n",
       "3               Data Analytics  Aakar Innovations Private Limited   \n",
       "4         Video Data Annotator          Indika AI Private Limited   \n",
       "5        E-Commerce Operations                             Aranqa   \n",
       "\n",
       "         Location                   Stipend  \\\n",
       "1       Bangalore       Competitive stipend   \n",
       "2        Silvassa  ₹ 15,000 - 25,000 /month   \n",
       "3     Navi Mumbai  ₹ 25,000 - 35,000 /month   \n",
       "4  Work from home   ₹ 8,000 - 15,000 /month   \n",
       "5          Mumbai  ₹ 12,000 - 16,000 /month   \n",
       "\n",
       "                                              Skills  \n",
       "1  Adobe Photoshop, Adobe Illustrator, E-commerce...  \n",
       "2  MS-Office, Project Management, Software Testin...  \n",
       "3  Python, SQL, Data Analytics, Data Science, RES...  \n",
       "4  Attention to Detail, Time Management, Data Ana...  \n",
       "5  Digital Marketing, Data Analytics, Search Engi...  "
      ]
     },
     "execution_count": 10,
     "metadata": {},
     "output_type": "execute_result"
    }
   ],
   "source": [
    "df_filtered.head()"
   ]
  },
  {
   "cell_type": "markdown",
   "id": "c036711f-87b5-4524-9973-eab6fd894393",
   "metadata": {},
   "source": [
    "### Size of filtered dataset"
   ]
  },
  {
   "cell_type": "code",
   "execution_count": 11,
   "id": "987e4162-15fc-4f1a-8e38-08ed3a997ea3",
   "metadata": {},
   "outputs": [
    {
     "name": "stdout",
     "output_type": "stream",
     "text": [
      "Total jobs scraped: 40\n"
     ]
    }
   ],
   "source": [
    "print(\"Total jobs scraped:\", len(df_filtered))"
   ]
  },
  {
   "cell_type": "markdown",
   "id": "1431c461-14ad-47af-949a-326af0a2ad97",
   "metadata": {},
   "source": [
    "### Check for NULL Values"
   ]
  },
  {
   "cell_type": "code",
   "execution_count": 12,
   "id": "5beb29e0-b44a-48be-b2c3-d6fa82532694",
   "metadata": {},
   "outputs": [
    {
     "data": {
      "text/plain": [
       "Title       0\n",
       "Company     0\n",
       "Location    0\n",
       "Stipend     0\n",
       "Skills      0\n",
       "dtype: int64"
      ]
     },
     "execution_count": 12,
     "metadata": {},
     "output_type": "execute_result"
    }
   ],
   "source": [
    "df_filtered.isnull().sum()"
   ]
  },
  {
   "cell_type": "markdown",
   "id": "c669a70b-5244-48e0-b12e-a0eb26ef551c",
   "metadata": {},
   "source": [
    "### Check for duplicate value"
   ]
  },
  {
   "cell_type": "code",
   "execution_count": 13,
   "id": "f3546250-3fbb-4166-959f-f30916bb45c1",
   "metadata": {},
   "outputs": [
    {
     "data": {
      "text/plain": [
       "0"
      ]
     },
     "execution_count": 13,
     "metadata": {},
     "output_type": "execute_result"
    }
   ],
   "source": [
    "df_filtered.duplicated().sum()"
   ]
  },
  {
   "cell_type": "markdown",
   "id": "64ce6df8-1762-413e-9b55-ca88703729db",
   "metadata": {},
   "source": [
    "### Top Locations"
   ]
  },
  {
   "cell_type": "code",
   "execution_count": 14,
   "id": "244048ee-4e26-4ba6-ade0-1247ad49a16f",
   "metadata": {},
   "outputs": [
    {
     "name": "stdout",
     "output_type": "stream",
     "text": [
      "Location\n",
      "Work from home    23\n",
      "Mumbai             4\n",
      "Bangalore          3\n",
      "Delhi              3\n",
      "Silvassa           1\n",
      "Name: count, dtype: int64\n"
     ]
    }
   ],
   "source": [
    "top_locations = df['Location'].value_counts().head(5)\n",
    "print(top_locations)"
   ]
  },
  {
   "cell_type": "markdown",
   "id": "03c72bb0-8eb5-454c-90db-7522034195e1",
   "metadata": {},
   "source": [
    "### Pie Chart(for top locations)"
   ]
  },
  {
   "cell_type": "code",
   "execution_count": 15,
   "id": "2a8ccf4e-aba9-4f96-a444-96c6b8888e2c",
   "metadata": {},
   "outputs": [
    {
     "data": {
      "image/png": "[encoded data removed]",
      "text/plain": [
       "<Figure size 640x480 with 1 Axes>"
      ]
     },
     "metadata": {},
     "output_type": "display_data"
    }
   ],
   "source": [
    "import matplotlib.pyplot as plt\n",
    "top_locations.plot(kind='pie', startangle=140)\n",
    "plt.title('Top 5 Job Locations')\n",
    "plt.show()"
   ]
  },
  {
   "cell_type": "markdown",
   "id": "fd01e5bf-d6e5-40c4-81df-f37ae1f6039c",
   "metadata": {},
   "source": [
    "### Most In-Demand Skills"
   ]
  },
  {
   "cell_type": "code",
   "execution_count": 16,
   "id": "7d25dd49-3e86-4aff-af51-79c3c7f11f71",
   "metadata": {},
   "outputs": [
    {
     "name": "stdout",
     "output_type": "stream",
     "text": [
      "                               Skill  Count\n",
      "0                     data analytics     40\n",
      "1                             python     20\n",
      "2                           ms-excel     17\n",
      "3                                sql     15\n",
      "4                       data science     12\n",
      "5                   machine learning      9\n",
      "6                          ms-office      7\n",
      "7                           power bi      7\n",
      "8       english proficiency (spoken)      7\n",
      "9  natural language processing (nlp)      6\n"
     ]
    }
   ],
   "source": [
    "from collections import Counter\n",
    "\n",
    "all_skills = ','.join(df['Skills'].dropna()).lower().split(',')\n",
    "skill_counts = Counter([skill.strip() for skill in all_skills if skill.strip()])\n",
    "top_skills = skill_counts.most_common(10)\n",
    "skill_df = pd.DataFrame(top_skills, columns=['Skill', 'Count'])\n",
    "print(skill_df)"
   ]
  },
  {
   "cell_type": "markdown",
   "id": "5889635e-6fca-4319-9af5-d96589467466",
   "metadata": {},
   "source": [
    "### Bar Plot of Top Skills"
   ]
  },
  {
   "cell_type": "code",
   "execution_count": 17,
   "id": "70ebb8a9-8fc4-4b2f-b0f4-b0142b9d3f9a",
   "metadata": {},
   "outputs": [
    {
     "data": {
      "image/png": "[encoded data removed]",
      "text/plain": [
       "<Figure size 1000x600 with 1 Axes>"
      ]
     },
     "metadata": {},
     "output_type": "display_data"
    }
   ],
   "source": [
    "plt.figure(figsize=(10, 6))\n",
    "plt.barh(skill_df['Skill'], skill_df['Count'], color='mediumslateblue')\n",
    "plt.xlabel('Frequency')\n",
    "plt.title('Top 10 In-Demand Skills in Data Analyst Internships')\n",
    "plt.gca().invert_yaxis()  # Highest skill at top\n",
    "plt.tight_layout()\n",
    "plt.show()"
   ]
  },
  {
   "cell_type": "markdown",
   "id": "290ac2d1-a78c-4ad8-b2c6-9cd5b75de62f",
   "metadata": {},
   "source": [
    "### Extract Numeric Stipend Values"
   ]
  },
  {
   "cell_type": "code",
   "execution_count": 18,
   "id": "51f6a96f-0e17-41ed-9523-7978937de533",
   "metadata": {},
   "outputs": [],
   "source": [
    "import re\n",
    "\n",
    "def extract_stipend(stipend_str):\n",
    "    match = re.search(r'₹\\s*([\\d,]+)', stipend_str)\n",
    "    if match:\n",
    "        return int(match.group(1).replace(',', ''))\n",
    "    else:\n",
    "        return None  # Skip \"Competitive stipend\" or \"Not disclosed\"\n",
    "\n",
    "df['Stipend_numeric'] = df['Stipend'].apply(extract_stipend)"
   ]
  },
  {
   "cell_type": "markdown",
   "id": "74c7e433-4496-4aa0-ba74-807010bfb20c",
   "metadata": {},
   "source": [
    "### Visualize Stipend Distribution"
   ]
  },
  {
   "cell_type": "code",
   "execution_count": 19,
   "id": "cd3c15fd-21a8-4f97-9f2b-9dc30e8878e5",
   "metadata": {},
   "outputs": [
    {
     "data": {
      "image/png": "[encoded data removed]",
      "text/plain": [
       "<Figure size 1000x600 with 1 Axes>"
      ]
     },
     "metadata": {},
     "output_type": "display_data"
    }
   ],
   "source": [
    "plt.figure(figsize=(10, 6))\n",
    "df['Stipend_numeric'].dropna().plot(kind='hist',edgecolor='black', bins=10, color='mediumslateblue')\n",
    "plt.title('Stipend Distribution for Data Analyst Internships')\n",
    "plt.xlabel('Monthly Stipend (₹)')\n",
    "plt.ylabel('Number of Internships')\n",
    "plt.show()"
   ]
  },
  {
   "cell_type": "markdown",
   "id": "44ff9fde-c614-4e81-8054-5362cd10c5ce",
   "metadata": {},
   "source": [
    "### Highest Paying Internship"
   ]
  },
  {
   "cell_type": "code",
   "execution_count": 20,
   "id": "823f49c2-99a9-42f5-8533-61893b0ef544",
   "metadata": {},
   "outputs": [
    {
     "name": "stdout",
     "output_type": "stream",
     "text": [
      "Highest paying internship:\n",
      "Title         Data Analytics\n",
      "Company     APEX ENGINEERING\n",
      "Location      Work from home\n",
      "Stipend      ₹ 30,000 /month\n",
      "Name: 16, dtype: object\n"
     ]
    }
   ],
   "source": [
    "top_job = df.loc[df['Stipend_numeric'].idxmax()]\n",
    "print(\"Highest paying internship:\")\n",
    "print(top_job[['Title', 'Company', 'Location', 'Stipend']])"
   ]
  },
  {
   "cell_type": "code",
   "execution_count": null,
   "id": "7c8f9888-e755-494f-a4d1-23eab62e2ae4",
   "metadata": {},
   "outputs": [],
   "source": []
  }
 ],
 "metadata": {
  "kernelspec": {
   "display_name": "Python 3 (ipykernel)",
   "language": "python",
   "name": "python3"
  },
  "language_info": {
   "codemirror_mode": {
    "name": "ipython",
    "version": 3
   },
   "file_extension": ".py",
   "mimetype": "text/x-python",
   "name": "python",
   "nbconvert_exporter": "python",
   "pygments_lexer": "ipython3",
   "version": "3.12.7"
  }
 },
 "nbformat": 4,
 "nbformat_minor": 5
}
